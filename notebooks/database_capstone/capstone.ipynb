{
 "cells": [
  {
   "cell_type": "markdown",
   "metadata": {},
   "source": [
    "# Capstone Project"
   ]
  },
  {
   "cell_type": "code",
   "execution_count": 1,
   "metadata": {},
   "outputs": [],
   "source": [
    "import os\n",
    "\n",
    "import mysql.connector as connector\n",
    "from mysql.connector.pooling import MySQLConnectionPool, PoolError\n",
    "from mysql.connector import Error"
   ]
  },
  {
   "cell_type": "markdown",
   "metadata": {},
   "source": [
    "## Task 1"
   ]
  },
  {
   "cell_type": "code",
   "execution_count": 18,
   "metadata": {},
   "outputs": [],
   "source": [
    "connection = connector.connect(\n",
    "    user=os.getenv(\"database_user\"),\n",
    "    password =os.getenv(\"database_password\"),\n",
    "    db=\"LittleLemon\"\n",
    ")"
   ]
  },
  {
   "cell_type": "code",
   "execution_count": 19,
   "metadata": {},
   "outputs": [],
   "source": [
    "cursor = connection.cursor()"
   ]
  },
  {
   "cell_type": "markdown",
   "metadata": {},
   "source": [
    "## Task 2"
   ]
  },
  {
   "cell_type": "code",
   "execution_count": 22,
   "metadata": {},
   "outputs": [],
   "source": [
    "show_tables_query = \"SHOW tables\"\n",
    "cursor.execute(show_tables_query)\n",
    "tables = cursor.fetchall()"
   ]
  },
  {
   "cell_type": "code",
   "execution_count": 25,
   "metadata": {},
   "outputs": [
    {
     "name": "stdout",
     "output_type": "stream",
     "text": [
      "Bookings\n",
      "Customers\n",
      "Delivery\n",
      "Menu\n",
      "MenuItem\n",
      "Orders\n",
      "ordersview\n",
      "Staff\n"
     ]
    }
   ],
   "source": [
    "for table in tables:\n",
    "    print(table[0])"
   ]
  },
  {
   "cell_type": "markdown",
   "metadata": {},
   "source": [
    "## Task 3"
   ]
  },
  {
   "cell_type": "code",
   "execution_count": 31,
   "metadata": {},
   "outputs": [],
   "source": [
    "join_query = \"\"\"\n",
    "SELECT\n",
    "    Customers.CustomerName AS CustomerName,\n",
    "    Customers.Email AS CustomerEmail,\n",
    "    Orders.TotalCost AS TotalCost\n",
    "FROM Customers\n",
    "INNER JOIN Orders ON Customers.CustomerID = Orders.CustomerID\n",
    "WHERE Orders.TotalCost > 6;\n",
    "\"\"\""
   ]
  },
  {
   "cell_type": "code",
   "execution_count": 32,
   "metadata": {},
   "outputs": [],
   "source": [
    "cursor.execute(join_query)\n",
    "results = cursor.fetchall()"
   ]
  },
  {
   "cell_type": "code",
   "execution_count": 39,
   "metadata": {},
   "outputs": [
    {
     "name": "stdout",
     "output_type": "stream",
     "text": [
      "\n",
      "    Customer: Bob\n",
      "    Email: bob@example.com\n",
      "    Bill Amount: $17.98\n",
      "\n",
      "    Customer: John Doe\n",
      "    Email: john.doe@example.com\n",
      "    Bill Amount: $10.99\n",
      "\n",
      "    Customer: Alice\n",
      "    Email: alice@example.com\n",
      "    Bill Amount: $26.97\n",
      "\n",
      "    Customer: Charlie\n",
      "    Email: charlie@example.com\n",
      "    Bill Amount: $15.98\n",
      "\n",
      "    Customer: Jane Doe\n",
      "    Email: jane.doe@example.com\n",
      "    Bill Amount: $24.95\n"
     ]
    }
   ],
   "source": [
    "# Print the results\n",
    "for customer in results:\n",
    "    print(\n",
    "    f\"\"\"\n",
    "    Customer: {customer[0]}\n",
    "    Email: {customer[1]}\n",
    "    Bill Amount: ${customer[2]}\"\"\"\n",
    "    )\n"
   ]
  },
  {
   "cell_type": "code",
   "execution_count": null,
   "metadata": {},
   "outputs": [],
   "source": []
  }
 ],
 "metadata": {
  "kernelspec": {
   "display_name": ".venv",
   "language": "python",
   "name": "python3"
  },
  "language_info": {
   "codemirror_mode": {
    "name": "ipython",
    "version": 3
   },
   "file_extension": ".py",
   "mimetype": "text/x-python",
   "name": "python",
   "nbconvert_exporter": "python",
   "pygments_lexer": "ipython3",
   "version": "3.11.5"
  }
 },
 "nbformat": 4,
 "nbformat_minor": 2
}
