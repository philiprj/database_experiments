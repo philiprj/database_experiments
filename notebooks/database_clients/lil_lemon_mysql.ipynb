{
 "cells": [
  {
   "cell_type": "markdown",
   "metadata": {},
   "source": [
    "# Little Lemon MySQL"
   ]
  },
  {
   "cell_type": "code",
   "execution_count": 84,
   "metadata": {},
   "outputs": [],
   "source": [
    "import mysql.connector as connector\n",
    "from mysql.connector.pooling import MySQLConnectionPool, PoolError\n",
    "from mysql.connector import Error"
   ]
  },
  {
   "cell_type": "markdown",
   "metadata": {},
   "source": [
    "## Setup"
   ]
  },
  {
   "cell_type": "markdown",
   "metadata": {},
   "source": [
    "### Create Database"
   ]
  },
  {
   "cell_type": "code",
   "execution_count": 2,
   "metadata": {},
   "outputs": [],
   "source": [
    "connection=connector.connect(user=\"root\", password =\"\")"
   ]
  },
  {
   "cell_type": "code",
   "execution_count": 3,
   "metadata": {},
   "outputs": [],
   "source": [
    "cursor = connection.cursor()"
   ]
  },
  {
   "cell_type": "code",
   "execution_count": 4,
   "metadata": {},
   "outputs": [],
   "source": [
    "cursor.execute(\"CREATE DATABASE little_lemon_db\")"
   ]
  },
  {
   "cell_type": "code",
   "execution_count": 5,
   "metadata": {},
   "outputs": [],
   "source": [
    "cursor.execute(\"USE little_lemon_db\")"
   ]
  },
  {
   "cell_type": "markdown",
   "metadata": {},
   "source": [
    "### Create Tables"
   ]
  },
  {
   "cell_type": "code",
   "execution_count": 6,
   "metadata": {},
   "outputs": [],
   "source": [
    "#MenuItems table\n",
    "create_menuitem_table = \"\"\"CREATE TABLE MenuItems (\n",
    "ItemID INT AUTO_INCREMENT,\n",
    "Name VARCHAR(200),\n",
    "Type VARCHAR(100),\n",
    "Price INT,\n",
    "PRIMARY KEY (ItemID)\n",
    ");\"\"\""
   ]
  },
  {
   "cell_type": "code",
   "execution_count": 7,
   "metadata": {},
   "outputs": [],
   "source": [
    "create_menu_table = \"\"\"CREATE TABLE Menus (\n",
    "MenuID INT,\n",
    "ItemID INT,\n",
    "Cuisine VARCHAR(100),\n",
    "PRIMARY KEY (MenuID,ItemID)\n",
    ");\"\"\""
   ]
  },
  {
   "cell_type": "code",
   "execution_count": 11,
   "metadata": {},
   "outputs": [],
   "source": [
    "create_booking_table = \"\"\"CREATE TABLE Bookings (\n",
    "BookingID INT AUTO_INCREMENT,\n",
    "TableNo INT,\n",
    "GuestFirstName VARCHAR(100) NOT NULL,\n",
    "GuestLastName VARCHAR(100) NOT NULL,\n",
    "BookingSlot TIME NOT NULL,\n",
    "EmployeeID INT,\n",
    "PRIMARY KEY (BookingID)\n",
    ");\"\"\""
   ]
  },
  {
   "cell_type": "code",
   "execution_count": 9,
   "metadata": {},
   "outputs": [],
   "source": [
    "create_orders_table = \"\"\"CREATE TABLE Orders (\n",
    "OrderID INT,\n",
    "TableNo INT,\n",
    "MenuID INT,\n",
    "BookingID INT,\n",
    "BillAmount INT,\n",
    "Quantity INT,\n",
    "PRIMARY KEY (OrderID,TableNo)\n",
    ");\"\"\""
   ]
  },
  {
   "cell_type": "code",
   "execution_count": 10,
   "metadata": {},
   "outputs": [],
   "source": [
    "create_employees_table = \"\"\"CREATE TABLE Employees (\n",
    "EmployeeID INT AUTO_INCREMENT PRIMARY KEY,\n",
    "Name VARCHAR (255),\n",
    "Role VARCHAR (100),\n",
    "Address VARCHAR (255),\n",
    "Contact_Number INT,\n",
    "Email VARCHAR (255),\n",
    "Annual_Salary VARCHAR (100)\n",
    ");\"\"\""
   ]
  },
  {
   "cell_type": "code",
   "execution_count": 19,
   "metadata": {},
   "outputs": [],
   "source": [
    "# Create MenuItems table\n",
    "cursor.execute(create_menuitem_table)\n",
    "# Create Menu table\n",
    "cursor.execute(create_menu_table)\n",
    "# Create Bookings table\n",
    "cursor.execute(create_booking_table)\n",
    "# Create Orders table\n",
    "cursor.execute(create_orders_table)\n",
    "# Create Employees table\n",
    "cursor.execute(create_employees_table)"
   ]
  },
  {
   "cell_type": "markdown",
   "metadata": {},
   "source": [
    "### Insert Data"
   ]
  },
  {
   "cell_type": "code",
   "execution_count": 17,
   "metadata": {},
   "outputs": [],
   "source": [
    "insert_menuitems=\"\"\"\n",
    "INSERT INTO MenuItems (ItemID, Name, Type, Price)\n",
    "VALUES\n",
    "(1, 'Olives','Starters',5),\n",
    "(2, 'Flatbread','Starters', 5),\n",
    "(3, 'Minestrone', 'Starters', 8),\n",
    "(4, 'Tomato bread','Starters', 8),\n",
    "(5, 'Falafel', 'Starters', 7),\n",
    "(6, 'Hummus', 'Starters', 5),\n",
    "(7, 'Greek salad', 'Main Courses', 15),\n",
    "(8, 'Bean soup', 'Main Courses', 12),\n",
    "(9, 'Pizza', 'Main Courses', 15),\n",
    "(10, 'Greek yoghurt','Desserts', 7),\n",
    "(11, 'Ice cream', 'Desserts', 6),\n",
    "(12, 'Cheesecake', 'Desserts', 4),\n",
    "(13, 'Athens White wine', 'Drinks', 25),\n",
    "(14, 'Corfu Red Wine', 'Drinks', 30),\n",
    "(15, 'Turkish Coffee', 'Drinks', 10),\n",
    "(16, 'Turkish Coffee', 'Drinks', 10),\n",
    "(17, 'Kabasa', 'Main Courses', 17);\"\"\"\n",
    "\n",
    "insert_menu=\"\"\"\n",
    "INSERT INTO Menus (MenuID,ItemID,Cuisine)\n",
    "VALUES\n",
    "(1, 1, 'Greek'),\n",
    "(1, 7, 'Greek'),\n",
    "(1, 10, 'Greek'),\n",
    "(1, 13, 'Greek'),\n",
    "(2, 3, 'Italian'),\n",
    "(2, 9, 'Italian'),\n",
    "(2, 12, 'Italian'),\n",
    "(2, 15, 'Italian'),\n",
    "(3, 5, 'Turkish'),\n",
    "(3, 17, 'Turkish'),\n",
    "(3, 11, 'Turkish'),\n",
    "(3, 16, 'Turkish');\"\"\"\n",
    "\n",
    "insert_bookings=\"\"\"\n",
    "INSERT INTO Bookings (BookingID, TableNo, GuestFirstName, \n",
    "GuestLastName, BookingSlot, EmployeeID)\n",
    "VALUES\n",
    "(1, 12, 'Anna','Iversen','19:00:00',1),\n",
    "(2, 12, 'Joakim', 'Iversen', '19:00:00', 1),\n",
    "(3, 19, 'Vanessa', 'McCarthy', '15:00:00', 3),\n",
    "(4, 15, 'Marcos', 'Romero', '17:30:00', 4),\n",
    "(5, 5, 'Hiroki', 'Yamane', '18:30:00', 2),\n",
    "(6, 8, 'Diana', 'Pinto', '20:00:00', 5);\"\"\"\n",
    "\n",
    "insert_orders=\"\"\"\n",
    "INSERT INTO Orders (OrderID, TableNo, MenuID, BookingID, Quantity, BillAmount)\n",
    "VALUES\n",
    "(1, 12, 1, 1, 2, 86),\n",
    "(2, 19, 2, 2, 1, 37),\n",
    "(3, 15, 2, 3, 1, 37),\n",
    "(4, 5, 3, 4, 1, 40),\n",
    "(5, 8, 1, 5, 1, 43);\"\"\"\n",
    "\n",
    "insert_employees = \"\"\"\n",
    "INSERT INTO employees (EmployeeID, Name, Role, Address, Contact_Number, Email, Annual_Salary)\n",
    "VALUES\n",
    "(01,'Mario Gollini','Manager','724, Parsley Lane, Old Town, Chicago, IL',351258074,'Mario.g@littlelemon.com','$70,000'),\n",
    "(02,'Adrian Gollini','Assistant Manager','334, Dill Square, Lincoln Park, Chicago, IL',351474048,'Adrian.g@littlelemon.com','$65,000'),\n",
    "(03,'Giorgos Dioudis','Head Chef','879 Sage Street, West Loop, Chicago, IL',351970582,'Giorgos.d@littlelemon.com','$50,000'),\n",
    "(04,'Fatma Kaya','Assistant Chef','132  Bay Lane, Chicago, IL',351963569,'Fatma.k@littlelemon.com','$45,000'),\n",
    "(05,'Elena Salvai','Head Waiter','989 Thyme Square, EdgeWater, Chicago, IL',351074198,'Elena.s@littlelemon.com','$40,000'),\n",
    "(06,'John Millar','Receptionist','245 Dill Square, Lincoln Park, Chicago, IL',351584508,'John.m@littlelemon.com','$35,000');\"\"\""
   ]
  },
  {
   "cell_type": "code",
   "execution_count": 20,
   "metadata": {},
   "outputs": [],
   "source": [
    "# Populate MenuItems table\n",
    "cursor.execute(insert_menuitems)\n",
    "connection.commit()\n",
    "\n",
    "# Populate MenuItems table\n",
    "cursor.execute(insert_menu)\n",
    "connection.commit()\n",
    "\n",
    "# Populate Bookings table\n",
    "cursor.execute(insert_bookings)\n",
    "connection.commit()\n",
    "\n",
    "# Populate Orders table\n",
    "cursor.execute(insert_orders)\n",
    "connection.commit()\n",
    "\n",
    "# Populate Employees table\n",
    "cursor.execute(insert_employees)\n",
    "connection.commit()"
   ]
  },
  {
   "cell_type": "markdown",
   "metadata": {},
   "source": [
    "## Implement a connection pool and stored procedure\n"
   ]
  },
  {
   "cell_type": "code",
   "execution_count": 69,
   "metadata": {},
   "outputs": [],
   "source": [
    "dbconfig={\"database\":\"little_lemon_db\", \"user\":\"root\", \"password\":\"\"}"
   ]
  },
  {
   "cell_type": "code",
   "execution_count": 70,
   "metadata": {},
   "outputs": [
    {
     "name": "stdout",
     "output_type": "stream",
     "text": [
      "Connection pool created successfully\n"
     ]
    }
   ],
   "source": [
    "try:\n",
    "    little_lemon_pool = MySQLConnectionPool(\n",
    "        pool_name=\"little_lemon_pool\",\n",
    "        pool_size=2,\n",
    "        **dbconfig\n",
    "    )\n",
    "    print(\"Connection pool created successfully\")\n",
    "except Error as err:\n",
    "    print(f\"Error: {err}\")"
   ]
  },
  {
   "cell_type": "code",
   "execution_count": 71,
   "metadata": {},
   "outputs": [],
   "source": [
    "example_query = \"SELECT * FROM Bookings\""
   ]
  },
  {
   "cell_type": "code",
   "execution_count": 57,
   "metadata": {},
   "outputs": [],
   "source": [
    "def execute_query_on_pool(query, pool=little_lemon_pool):\n",
    "    conn=pool.get_connection()\n",
    "    if conn.is_connected():\n",
    "        cursor=conn.cursor()\n",
    "        print(f\"Connection established to {conn.connection_id}\")\n",
    "        cursor.execute(query)\n",
    "        result=cursor.fetchall()\n",
    "        print(result)\n",
    "        conn.close()"
   ]
  },
  {
   "cell_type": "code",
   "execution_count": 58,
   "metadata": {},
   "outputs": [
    {
     "name": "stdout",
     "output_type": "stream",
     "text": [
      "Connection established to 15\n",
      "[(1, 12, 'Anna', 'Iversen', datetime.timedelta(seconds=68400), 1), (2, 12, 'Joakim', 'Iversen', datetime.timedelta(seconds=68400), 1), (3, 19, 'Vanessa', 'McCarthy', datetime.timedelta(seconds=54000), 3), (4, 15, 'Marcos', 'Romero', datetime.timedelta(seconds=63000), 4), (5, 5, 'Hiroki', 'Yamane', datetime.timedelta(seconds=66600), 2), (6, 8, 'Diana', 'Pinto', datetime.timedelta(seconds=72000), 5)]\n"
     ]
    }
   ],
   "source": [
    "execute_query_on_pool(example_query)"
   ]
  },
  {
   "cell_type": "code",
   "execution_count": 72,
   "metadata": {},
   "outputs": [],
   "source": [
    "peak_hours_procedure = \"\"\"\n",
    "CREATE PROCEDURE peak_hours()\n",
    "BEGIN\n",
    "    SELECT\n",
    "        HOUR(BookingSlot) as BookingHour,\n",
    "        COUNT(*) AS BookingCount\n",
    "    FROM Bookings\n",
    "    GROUP BY BookingHour\n",
    "    ORDER BY BookingCount DESC;\n",
    "END\n",
    "\"\"\""
   ]
  },
  {
   "cell_type": "code",
   "execution_count": 75,
   "metadata": {},
   "outputs": [
    {
     "name": "stdout",
     "output_type": "stream",
     "text": [
      "Procedure created successfully\n",
      "\n",
      "Columns: ['BookingHour', 'BookingCount']\n",
      "\n",
      "Results:\n",
      "Hour: 19, Number of Bookings: 2\n",
      "Hour: 15, Number of Bookings: 1\n",
      "Hour: 17, Number of Bookings: 1\n",
      "Hour: 18, Number of Bookings: 1\n",
      "Hour: 20, Number of Bookings: 1\n"
     ]
    }
   ],
   "source": [
    "# Step 2: Execute the procedure creation\n",
    "try:\n",
    "    conn = little_lemon_pool.get_connection()\n",
    "    cursor = conn.cursor()\n",
    "    cursor.execute(\"DROP PROCEDURE IF EXISTS peak_hours\")\n",
    "    cursor.execute(peak_hours_procedure)\n",
    "    print(\"Procedure created successfully\")\n",
    "\n",
    "    # Step 3 & 4: Call procedure and fetch results\n",
    "    cursor.callproc(\"peak_hours\")\n",
    "    results = next(cursor.stored_results())\n",
    "    dataset = results.fetchall()\n",
    "\n",
    "    # Step 5: Get column names\n",
    "    column_names = [desc[0] for desc in results.description]\n",
    "\n",
    "    # Step 6: Print column names\n",
    "    print(\"\\nColumns:\", column_names)\n",
    "\n",
    "    # Step 7: Print results\n",
    "    print(\"\\nResults:\")\n",
    "    for row in dataset:\n",
    "        print(f\"Hour: {row[0]}, Number of Bookings: {row[1]}\")\n",
    "\n",
    "except Error as err:\n",
    "    print(f\"Error: {err}\")\n",
    "finally:\n",
    "    if 'connection' in locals() and conn.is_connected():\n",
    "        cursor.close()\n",
    "        conn.close()"
   ]
  },
  {
   "cell_type": "code",
   "execution_count": 78,
   "metadata": {},
   "outputs": [],
   "source": [
    "guest_status_procedure = \"\"\"\n",
    "CREATE PROCEDURE GuestStatus()\n",
    "BEGIN\n",
    "    SELECT\n",
    "        CONCAT(Bookings.GuestFirstName, ' ', Bookings.GuestLastName) AS GuestName,\n",
    "        CASE\n",
    "            WHEN (Employees.Role = 'Manager') OR (Employees.Role = 'Assistant Manager') THEN 'Ready to pay'\n",
    "            WHEN (Employees.Role = 'Head Chef') THEN 'Ready to serve'\n",
    "            WHEN (Employees.Role = 'Assistant Chef') THEN 'Preparing Order'\n",
    "            WHEN (Employees.Role = 'Head Waiter') THEN 'Order served'\n",
    "            ELSE 'Pending'\n",
    "        END AS Status\n",
    "    FROM Bookings\n",
    "    LEFT JOIN Employees on Bookings.EmployeeID = Employees.EmployeeID;\n",
    "END\n",
    "\"\"\""
   ]
  },
  {
   "cell_type": "code",
   "execution_count": 79,
   "metadata": {},
   "outputs": [
    {
     "name": "stdout",
     "output_type": "stream",
     "text": [
      "Procedure created successfully\n",
      "\n",
      "Columns: ['GuestName', 'Status']\n",
      "\n",
      "Results:\n",
      "('Anna Iversen', 'Ready to pay')\n",
      "('Joakim Iversen', 'Ready to pay')\n",
      "('Vanessa McCarthy', 'Ready to serve')\n",
      "('Marcos Romero', 'Preparing Order')\n",
      "('Hiroki Yamane', 'Ready to pay')\n",
      "('Diana Pinto', 'Order served')\n"
     ]
    }
   ],
   "source": [
    "try:\n",
    "    conn = little_lemon_pool.get_connection()\n",
    "    cursor = conn.cursor()\n",
    "    cursor.execute(\"DROP PROCEDURE IF EXISTS GuestStatus\")\n",
    "    cursor.execute(guest_status_procedure)\n",
    "    print(\"Procedure created successfully\")\n",
    "\n",
    "    # Step 3 & 4: Call procedure and fetch results\n",
    "    cursor.callproc(\"GuestStatus\")\n",
    "    results = next(cursor.stored_results())\n",
    "    dataset = results.fetchall()\n",
    "\n",
    "    # Step 5: Get column names\n",
    "    column_names = [desc[0] for desc in results.description]\n",
    "\n",
    "    # Step 6: Print column names\n",
    "    print(\"\\nColumns:\", column_names)\n",
    "\n",
    "    # Step 7: Print results\n",
    "    print(\"\\nResults:\")\n",
    "    for row in dataset:\n",
    "        print(row)\n",
    "\n",
    "except Error as err:\n",
    "    print(f\"Error: {err}\")\n",
    "finally:\n",
    "    if 'connection' in locals() and conn.is_connected():\n",
    "        cursor.close()\n",
    "        conn.close()"
   ]
  },
  {
   "cell_type": "markdown",
   "metadata": {},
   "source": [
    "## Final Assessment"
   ]
  },
  {
   "cell_type": "markdown",
   "metadata": {},
   "source": [
    "### Task 1"
   ]
  },
  {
   "cell_type": "code",
   "execution_count": 80,
   "metadata": {},
   "outputs": [],
   "source": [
    "dbconfig = {\n",
    "    \"database\": \"little_lemon_db\",\n",
    "    \"user\": \"root\",\n",
    "    \"password\": \"\"\n",
    "}"
   ]
  },
  {
   "cell_type": "code",
   "execution_count": 81,
   "metadata": {},
   "outputs": [
    {
     "name": "stdout",
     "output_type": "stream",
     "text": [
      "Connection pool created successfully\n"
     ]
    }
   ],
   "source": [
    "try:\n",
    "    pool_b = MySQLConnectionPool(\n",
    "        pool_name=\"pool_b\",\n",
    "        pool_size=2,\n",
    "        **dbconfig\n",
    "    )\n",
    "    print(\"Connection pool created successfully\")\n",
    "except Error as err:\n",
    "    print(f\"Error: {err}\")"
   ]
  },
  {
   "cell_type": "markdown",
   "metadata": {},
   "source": [
    "### Task 2"
   ]
  },
  {
   "cell_type": "code",
   "execution_count": 82,
   "metadata": {},
   "outputs": [],
   "source": [
    "# Insert query template\n",
    "insert_booking_query = \"\"\"\n",
    "INSERT INTO Bookings (TableNo, GuestFirstName, GuestLastName, BookingSlot, EmployeeID)\n",
    "VALUES (%s, %s, %s, %s, %s)\n",
    "\"\"\"\n",
    "\n",
    "# Guest data\n",
    "guests = [\n",
    "    (8, \"Anees\", \"Java\", \"18:00:00\", 6),\n",
    "    (5, \"Bald\", \"Vin\", \"19:00:00\", 6),\n",
    "    (12, \"Jay\", \"Kon\", \"19:30:00\", 6)\n",
    "]"
   ]
  },
  {
   "cell_type": "code",
   "execution_count": 85,
   "metadata": {},
   "outputs": [
    {
     "name": "stdout",
     "output_type": "stream",
     "text": [
      "Booking added for Anees Java\n",
      "Booking added for Bald Vin\n",
      "Error: Failed getting connection; pool exhausted\n",
      "Connection returned to pool\n",
      "Connection returned to pool\n"
     ]
    }
   ],
   "source": [
    "# List to store connections\n",
    "conns = []\n",
    "\n",
    "# Get connections and insert bookings\n",
    "try:\n",
    "    # Get connections for each guest\n",
    "    for _ in range(3):\n",
    "        conn = pool_b.get_connection()\n",
    "        conns.append(conn)\n",
    "        cursor = conn.cursor()\n",
    "        guest_data = guests[len(conns)-1]\n",
    "        cursor.execute(insert_booking_query, guest_data)\n",
    "        conn.commit()\n",
    "        print(f\"Booking added for {guest_data[1]} {guest_data[2]}\")\n",
    "        cursor.close()\n",
    "except PoolError as err:\n",
    "    print(f\"Error: {err}\")\n",
    "finally:\n",
    "    # Return connections to pool\n",
    "    for connection in conns:\n",
    "        try:\n",
    "            connection.close()\n",
    "            print(\"Connection returned to pool\")\n",
    "        except Error as err:\n",
    "            print(f\"Error returning connection to pool: {err}\")\n"
   ]
  },
  {
   "cell_type": "markdown",
   "metadata": {},
   "source": [
    "### Task 3"
   ]
  },
  {
   "cell_type": "code",
   "execution_count": 86,
   "metadata": {},
   "outputs": [],
   "source": [
    "manager_query = \"\"\"\n",
    "SELECT Name, EmployeeID\n",
    "FROM Employees\n",
    "WHERE Role = 'Manager';\n",
    "\"\"\"\n",
    "\n",
    "# Query 2: Highest paid employee\n",
    "highest_salary_query = \"\"\"\n",
    "SELECT\n",
    "    Name,\n",
    "    Role,\n",
    "    Annual_Salary\n",
    "FROM Employees\n",
    "ORDER BY Annual_Salary DESC\n",
    "LIMIT 1;\n",
    "\"\"\"\n",
    "\n",
    "# Query 3: Evening bookings count\n",
    "evening_bookings_query = \"\"\"\n",
    "SELECT COUNT(*) as BookingsCount\n",
    "FROM Bookings\n",
    "WHERE BookingSlot BETWEEN '18:00:00' AND '20:00:00';\n",
    "\"\"\"\n",
    "\n",
    "# Query 4: Guests waiting with receptionist\n",
    "waiting_guests_query = \"\"\"\n",
    "SELECT\n",
    "    BookingID,\n",
    "    CONCAT(GuestFirstName, ' ', GuestLastName) as GuestName,\n",
    "    BookingSlot\n",
    "FROM Bookings b\n",
    "JOIN Employees e ON b.EmployeeID = e.EmployeeID\n",
    "WHERE e.Role = 'Receptionist'\n",
    "ORDER BY BookingSlot;\n",
    "\"\"\""
   ]
  },
  {
   "cell_type": "code",
   "execution_count": 87,
   "metadata": {},
   "outputs": [
    {
     "name": "stdout",
     "output_type": "stream",
     "text": [
      "\n",
      "Manager Information:\n",
      "Name: Mario Gollini, EmployeeID: 1\n",
      "\n",
      "Highest Paid Employee:\n",
      "Name: Mario Gollini, Role: Manager, Salary: $70,000\n",
      "\n",
      "Number of Evening Bookings (18:00-20:00):\n",
      "8\n",
      "\n",
      "Guests Waiting with Receptionist:\n",
      "BookingID | Guest Name | Booking Time\n",
      "----------------------------------------\n",
      "7 | Anees Java | 18:00:00\n",
      "9 | Anees Java | 18:00:00\n",
      "8 | Bald Vin | 19:00:00\n",
      "10 | Bald Vin | 19:00:00\n"
     ]
    }
   ],
   "source": [
    "# Execute all queries\n",
    "try:\n",
    "    conn = pool_b.get_connection()\n",
    "    cursor = conn.cursor()\n",
    "\n",
    "    # Execute and print manager info\n",
    "    cursor.execute(manager_query)\n",
    "    print(\"\\nManager Information:\")\n",
    "    for row in cursor.fetchall():\n",
    "        print(f\"Name: {row[0]}, EmployeeID: {row[1]}\")\n",
    "\n",
    "    # Execute and print highest salary info\n",
    "    cursor.execute(highest_salary_query)\n",
    "    print(\"\\nHighest Paid Employee:\")\n",
    "    for row in cursor.fetchall():\n",
    "        print(f\"Name: {row[0]}, Role: {row[1]}, Salary: {row[2]}\")\n",
    "\n",
    "    # Execute and print evening bookings count\n",
    "    cursor.execute(evening_bookings_query)\n",
    "    print(\"\\nNumber of Evening Bookings (18:00-20:00):\")\n",
    "    print(cursor.fetchone()[0])\n",
    "\n",
    "    # Execute and print waiting guests\n",
    "    cursor.execute(waiting_guests_query)\n",
    "    print(\"\\nGuests Waiting with Receptionist:\")\n",
    "    print(\"BookingID | Guest Name | Booking Time\")\n",
    "    print(\"-\" * 40)\n",
    "    for row in cursor.fetchall():\n",
    "        print(f\"{row[0]} | {row[1]} | {row[2]}\")\n",
    "\n",
    "except Error as err:\n",
    "    print(f\"Error: {err}\")\n",
    "finally:\n",
    "    if 'conn' in locals() and conn.is_connected():\n",
    "        cursor.close()\n",
    "        conn.close()"
   ]
  },
  {
   "cell_type": "markdown",
   "metadata": {},
   "source": [
    "### Task 4"
   ]
  },
  {
   "cell_type": "code",
   "execution_count": 88,
   "metadata": {},
   "outputs": [],
   "source": [
    "basic_sales_procedure = \"\"\"\n",
    "CREATE PROCEDURE BasicSalesReport()\n",
    "BEGIN\n",
    "    SELECT\n",
    "        SUM(BillAmount) as TotalSales,\n",
    "        AVG(BillAmount) as AverageSale,\n",
    "        MIN(BillAmount) as MinimumBill,\n",
    "        MAX(BillAmount) as MaximumBill\n",
    "    FROM Orders;\n",
    "END\n",
    "\"\"\""
   ]
  },
  {
   "cell_type": "code",
   "execution_count": 90,
   "metadata": {},
   "outputs": [
    {
     "name": "stdout",
     "output_type": "stream",
     "text": [
      "Procedure created successfully\n",
      "\n",
      "Sales Report:\n",
      "Total Sales: $243\n",
      "Average Sale: $48.60\n",
      "Minimum Bill: $37\n",
      "Maximum Bill: $86\n"
     ]
    }
   ],
   "source": [
    "try:\n",
    "    conn = pool_b.get_connection()\n",
    "    cursor = conn.cursor()\n",
    "\n",
    "    # Create procedure\n",
    "    cursor.execute(\"DROP PROCEDURE IF EXISTS BasicSalesReport\")\n",
    "    cursor.execute(basic_sales_procedure)\n",
    "    print(\"Procedure created successfully\")\n",
    "\n",
    "    # Call procedure and fetch results\n",
    "    cursor.callproc(\"BasicSalesReport\")\n",
    "    results = next(cursor.stored_results())\n",
    "    dataset = results.fetchall()\n",
    "\n",
    "    # Print results\n",
    "    print(\"\\nSales Report:\")\n",
    "    print(f\"Total Sales: ${dataset[0][0]}\")\n",
    "    print(f\"Average Sale: ${dataset[0][1]:.2f}\")\n",
    "    print(f\"Minimum Bill: ${dataset[0][2]}\")\n",
    "    print(f\"Maximum Bill: ${dataset[0][3]}\")\n",
    "except Error as err:\n",
    "    print(f\"Error: {err}\")\n",
    "finally:\n",
    "    if 'conn' in locals() and conn.is_connected():\n",
    "        cursor.close()\n",
    "        conn.close()"
   ]
  },
  {
   "cell_type": "markdown",
   "metadata": {},
   "source": [
    "### Task 5"
   ]
  },
  {
   "cell_type": "code",
   "execution_count": 91,
   "metadata": {},
   "outputs": [],
   "source": [
    "upcoming_bookings_query = \"\"\"\n",
    "SELECT\n",
    "    b.BookingSlot,\n",
    "    CONCAT(b.GuestFirstName, ' ', b.GuestLastName) as Guest_Name,\n",
    "    CONCAT('Assigned to: ', e.Name, ' [', e.Role, ']') as Employee_Info\n",
    "FROM Bookings b\n",
    "JOIN Employees e ON b.EmployeeID = e.EmployeeID\n",
    "ORDER BY b.BookingSlot ASC\n",
    "LIMIT 3\n",
    "\"\"\""
   ]
  },
  {
   "cell_type": "code",
   "execution_count": 92,
   "metadata": {},
   "outputs": [
    {
     "name": "stdout",
     "output_type": "stream",
     "text": [
      "\n",
      "Upcoming Bookings:\n",
      "--------------------------------------------------\n",
      "\n",
      "15:00:00\n",
      "Vanessa McCarthy\n",
      "Assigned to: Giorgos Dioudis [Head Chef]\n",
      "\n",
      "17:30:00\n",
      "Marcos Romero\n",
      "Assigned to: Fatma Kaya [Assistant Chef]\n",
      "\n",
      "18:00:00\n",
      "Anees Java\n",
      "Assigned to: John Millar [Receptionist]\n",
      "\n",
      "Connection returned to pool\n"
     ]
    }
   ],
   "source": [
    "try:\n",
    "    # Get connection from pool\n",
    "    conn = pool_b.get_connection()\n",
    "    # Create buffered cursor\n",
    "    cursor = conn.cursor(buffered=True)\n",
    "    # Execute query\n",
    "    cursor.execute(upcoming_bookings_query)\n",
    "    results = cursor.fetchall()\n",
    "    # Print results\n",
    "    print(\"\\nUpcoming Bookings:\")\n",
    "    print(\"-\" * 50)\n",
    "    for booking in results:\n",
    "        print(f\"\\n{booking[0]}\")\n",
    "        print(f\"{booking[1]}\")\n",
    "        print(f\"{booking[2]}\")\n",
    "except Error as err:\n",
    "    print(f\"Error: {err}\")\n",
    "finally:\n",
    "    if 'conn' in locals() and conn.is_connected():\n",
    "        cursor.close()\n",
    "        conn.close()\n",
    "        print(\"\\nConnection returned to pool\")"
   ]
  },
  {
   "cell_type": "code",
   "execution_count": null,
   "metadata": {},
   "outputs": [],
   "source": []
  }
 ],
 "metadata": {
  "kernelspec": {
   "display_name": "db-experiments-FaE8ZjqN-py3.11",
   "language": "python",
   "name": "python3"
  },
  "language_info": {
   "codemirror_mode": {
    "name": "ipython",
    "version": 3
   },
   "file_extension": ".py",
   "mimetype": "text/x-python",
   "name": "python",
   "nbconvert_exporter": "python",
   "pygments_lexer": "ipython3",
   "version": "3.11.5"
  }
 },
 "nbformat": 4,
 "nbformat_minor": 2
}
